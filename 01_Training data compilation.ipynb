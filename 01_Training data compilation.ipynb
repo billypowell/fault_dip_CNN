{
 "cells": [
  {
   "cell_type": "code",
   "execution_count": 32,
   "metadata": {},
   "outputs": [],
   "source": [
    "import numpy as np"
   ]
  },
  {
   "cell_type": "raw",
   "metadata": {},
   "source": [
    "0 = grad1_1\n",
    "1 = grad1_2\n",
    "2 = grad1_3\n",
    "3 = grad1_4\n",
    "4 = grad1_5\n",
    "5 = grad1_6\n",
    "6 = grad1_7\n",
    "7 = grad1_8\n",
    "8 = grad1_9\n",
    "9 = grad1_10\n",
    "\n",
    "10 = neggrad1_1\n",
    "11 = neggrad1_2\n",
    "12 = neggrad1_3\n",
    "13 = neggrad1_4\n",
    "14 = neggrad1_5\n",
    "15 = neggrad1_6\n",
    "16 = neggrad1_7\n",
    "17 = neggrad1_8\n",
    "18 = neggrad1_9\n",
    "19 = neggrad1_10\n",
    "20 = no fault"
   ]
  },
  {
   "cell_type": "code",
   "execution_count": 33,
   "metadata": {},
   "outputs": [],
   "source": [
    "a = np.load('training_grad1_1.npy')\n",
    "b = np.load('training_grad1_2.npy')\n",
    "c = np.load('training_grad1_3.npy')\n",
    "d = np.load('training_grad1_4.npy')\n",
    "e = np.load('training_grad1_5.npy')\n",
    "f = np.load('training_grad1_6.npy')\n",
    "g = np.load('training_grad1_7.npy')\n",
    "h = np.load('training_grad1_8.npy')\n",
    "i = np.load('training_grad1_9.npy')\n",
    "j = np.load('training_grad1_10.npy')\n",
    "\n",
    "k = np.load('training_neggrad1_1.npy')\n",
    "l = np.load('training_neggrad1_2.npy')\n",
    "m = np.load('training_neggrad1_3.npy')\n",
    "n = np.load('training_neggrad1_4.npy')\n",
    "o = np.load('training_neggrad1_5.npy')\n",
    "p = np.load('training_neggrad1_6.npy')\n",
    "q = np.load('training_neggrad1_7.npy')\n",
    "r = np.load('training_neggrad1_8.npy')\n",
    "s = np.load('training_neggrad1_9.npy')\n",
    "t = np.load('training_neggrad1_10.npy')\n",
    "\n",
    "u = np.load('training_nofault.npy')"
   ]
  },
  {
   "cell_type": "code",
   "execution_count": 34,
   "metadata": {},
   "outputs": [],
   "source": [
    "training_data = np.concatenate((a,b,c,d,e,f,g,h,i,j,k,l,m,n,o,p,q,r,s,t,u),axis=2)"
   ]
  },
  {
   "cell_type": "code",
   "execution_count": 35,
   "metadata": {},
   "outputs": [],
   "source": [
    "training_data.shape"
   ]
  },
  {
   "cell_type": "markdown",
   "metadata": {},
   "source": [
    "Training Labels\n",
    "------"
   ]
  },
  {
   "cell_type": "code",
   "execution_count": 35,
   "metadata": {},
   "outputs": [
    {
     "data": {
      "text/plain": [
       "(48, 32, 250000)"
      ]
     },
     "execution_count": 35,
     "metadata": {},
     "output_type": "execute_result"
    }
   ],
   "source": [
    "a = np.ones((10000)) * 0\n",
    "b = np.ones((10000)) \n",
    "c = np.ones((10000)) * 2\n",
    "d = np.ones((10000)) * 3\n",
    "e = np.ones((10000)) * 4\n",
    "f = np.ones((10000)) * 5\n",
    "g = np.ones((10000)) * 6\n",
    "h = np.ones((10000)) * 7\n",
    "i = np.ones((10000)) * 8\n",
    "j = np.ones((10000)) * 9\n",
    "k = np.ones((10000)) * 10\n",
    "l = np.ones((10000)) * 11\n",
    "m = np.ones((10000)) * 12\n",
    "n = np.ones((10000)) * 13\n",
    "o = np.ones((10000)) * 14\n",
    "p = np.ones((10000)) * 15\n",
    "q = np.ones((10000)) * 16\n",
    "r = np.ones((10000)) * 17\n",
    "s = np.ones((10000)) * 18\n",
    "t = np.ones((10000)) * 19\n",
    "u = np.ones((50000)) * 20\n",
    "\n",
    "labels = np.hstack((a,b,c,d,e,f,g,h,i,j,k,l,m,n,o,p,q,r,s,t,u))\n",
    "\n",
    "np.save(arr=labels, file='training_labels')np.save(arr=labels, file='training_labels')"
   ]
  }
 ],
 "metadata": {
  "kernelspec": {
   "display_name": "Python 3",
   "language": "python",
   "name": "python3"
  },
  "language_info": {
   "codemirror_mode": {
    "name": "ipython",
    "version": 3
   },
   "file_extension": ".py",
   "mimetype": "text/x-python",
   "name": "python",
   "nbconvert_exporter": "python",
   "pygments_lexer": "ipython3",
   "version": "3.6.8"
  }
 },
 "nbformat": 4,
 "nbformat_minor": 2
}
