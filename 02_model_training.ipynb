{
 "cells": [
  {
   "cell_type": "markdown",
   "metadata": {},
   "source": [
    "Model Training\n",
    "--------------\n",
    "\n",
    "Here we:\n",
    "\n",
    "+ Define the model in keras\n",
    "+ Train the model on the synthetic data\n",
    "+ Test on unseen data and assess quality of the result uning a confusion matrix"
   ]
  },
  {
   "cell_type": "code",
   "execution_count": 8,
   "metadata": {},
   "outputs": [],
   "source": [
    "import numpy as np\n",
    "import matplotlib.pyplot as plt\n",
    "\n",
    "from keras.models import Sequential\n",
    "from keras.layers import Conv2D, Dense, Activation, BatchNormalization, AveragePooling2D, Dropout, Flatten\n",
    "from keras.utils import to_categorical\n",
    "from keras.models import load_model\n",
    "\n",
    "from sklearn.metrics import confusion_matrix"
   ]
  },
  {
   "cell_type": "markdown",
   "metadata": {},
   "source": [
    "Model define as described in Wu et. al. (2018), except for:\n",
    "\n",
    "+ 20 output layers for the different result schema\n",
    "+ No batch normaliasation.  Batch normalisation has no effect on the output and increases runtime "
   ]
  },
  {
   "cell_type": "code",
   "execution_count": 3,
   "metadata": {},
   "outputs": [],
   "source": [
    "model = Sequential()\n",
    "\n",
    "model.add(Conv2D(filters=16, kernel_size=3, padding='same', strides=1, input_shape=(48, 32, 1)))\n",
    "#model.add(BatchNormalization())\n",
    "model.add(Activation('relu'))\n",
    "\n",
    "model.add(Conv2D(filters=16, kernel_size=3, padding='same', strides=1))\n",
    "#model.add(BatchNormalization())\n",
    "model.add(Activation('relu'))\n",
    "\n",
    "model.add(AveragePooling2D(pool_size=(2, 2), strides=2))\n",
    "\n",
    "\n",
    "model.add(Conv2D(filters=32, kernel_size=3, padding='same', strides=1))\n",
    "#model.add(BatchNormalization())\n",
    "model.add(Activation('relu'))\n",
    "\n",
    "model.add(Conv2D(filters=32, kernel_size=3, padding='same', strides=1))\n",
    "#model.add(BatchNormalization())\n",
    "model.add(Activation('relu'))\n",
    "\n",
    "model.add(AveragePooling2D(pool_size=(2, 2), strides=2))\n",
    "\n",
    "model.add(Conv2D(filters=64, kernel_size=3, padding='same', strides=1))\n",
    "#model.add(BatchNormalization())\n",
    "model.add(Activation('relu'))\n",
    "\n",
    "model.add(Conv2D(filters=64, kernel_size=3, padding='same', strides=1))\n",
    "#model.add(BatchNormalization())\n",
    "model.add(Activation('relu'))\n",
    "\n",
    "model.add(AveragePooling2D(pool_size=(2, 2), strides=2))\n",
    "\n",
    "model.add(Flatten())\n",
    "model.add(Dense(128))\n",
    "model.add(Activation('relu'))\n",
    "\n",
    "model.add(Dropout(0.5))\n",
    "\n",
    "model.add(Dense(21, activation='softmax'))\n",
    "\n",
    "model.compile(optimizer='adam',\n",
    "              loss='categorical_crossentropy',\n",
    "              metrics=['accuracy'])"
   ]
  },
  {
   "cell_type": "markdown",
   "metadata": {},
   "source": [
    "Training data organisation"
   ]
  },
  {
   "cell_type": "code",
   "execution_count": 7,
   "metadata": {},
   "outputs": [
    {
     "name": "stdout",
     "output_type": "stream",
     "text": [
      "Training data shape:(250000, 48, 32, 1)\n",
      "Training labels shape:(250000, 21)\n"
     ]
    }
   ],
   "source": [
    "training_data = np.load('training_data/training_data.npy')\n",
    "\n",
    "test = []\n",
    "\n",
    "for i in range(250000):\n",
    "    \n",
    "    a = training_data[:,:,i]\n",
    "    \n",
    "    b = np.reshape(a,(48,32,1))\n",
    "    \n",
    "    test.append(b)\n",
    "    \n",
    "training_data = np.stack(test, axis=0)\n",
    "\n",
    "print('Training data shape:' + str(training_data.shape))\n",
    "\n",
    "\n",
    "training_labels = np.load('training_data/training_labels.npy')\n",
    "training_labels_cat = to_categorical(training_labels)\n",
    "\n",
    "print('Training labels shape:' + str(training_labels_cat.shape))"
   ]
  },
  {
   "cell_type": "markdown",
   "metadata": {},
   "source": [
    "Training, validation and test data subsets"
   ]
  },
  {
   "cell_type": "code",
   "execution_count": 1,
   "metadata": {},
   "outputs": [],
   "source": [
    "training_datac = training_data[:250000:100,:,:,:]\n",
    "training_labels_cat_c = training_labels_cat[:250000:100,:]\n",
    "\n",
    "val_datac = training_data[:250000:230,:,:,:]\n",
    "val_labels_cat_c = training_labels_cat[:250000:230,:]\n",
    "\n",
    "test_data = training_data[:250000:333,:,:,:]\n",
    "test_label = training_labels_cat[:250000:333,:]"
   ]
  },
  {
   "cell_type": "markdown",
   "metadata": {},
   "source": [
    "Fit/save model or load a fitted model"
   ]
  },
  {
   "cell_type": "code",
   "execution_count": 7,
   "metadata": {},
   "outputs": [],
   "source": [
    "#Fit and save model\n",
    "#model.fit(training_datac, training_labels_cat_c, validation_data=(val_datac, val_labels_cat_c), epochs=50, verbose=1, batch_size=32)\n",
    "#model.save('faultCNNmodel.h5')\n",
    "\n",
    "#Load model\n",
    "model = load_model('faultCNNmodel.h5')"
   ]
  },
  {
   "cell_type": "markdown",
   "metadata": {},
   "source": [
    "Run prediction on the test data and check quality using a confusion matrix"
   ]
  },
  {
   "cell_type": "code",
   "execution_count": 9,
   "metadata": {},
   "outputs": [
    {
     "name": "stdout",
     "output_type": "stream",
     "text": [
      "751/751 [==============================] - 0s 511us/step\n"
     ]
    }
   ],
   "source": [
    "prediction = model.predict(test_data, verbose=1)"
   ]
  },
  {
   "cell_type": "code",
   "execution_count": 10,
   "metadata": {},
   "outputs": [],
   "source": [
    "def result_vector(array):\n",
    "\n",
    "    def decode(datum):\n",
    "        return np.argmax(datum)\n",
    "\n",
    "    res = []\n",
    "    for i in range(array.shape[0]):\n",
    "        datum = array[i]\n",
    "        decoded_datum = decode(array[i])\n",
    "        res.append(decoded_datum)\n",
    "\n",
    "    return res\n",
    "\n",
    "result = result_vector(prediction)\n",
    "testlabel = result_vector(test_label)"
   ]
  },
  {
   "cell_type": "code",
   "execution_count": 17,
   "metadata": {},
   "outputs": [
    {
     "data": {
      "text/plain": [
       "<matplotlib.colorbar.Colorbar at 0x7f75e5ab0c88>"
      ]
     },
     "execution_count": 17,
     "metadata": {},
     "output_type": "execute_result"
    },
    {
     "data": {
      "image/png": "[encoded data removed]",
      "text/plain": [
       "<Figure size 720x720 with 2 Axes>"
      ]
     },
     "metadata": {
      "needs_background": "light"
     },
     "output_type": "display_data"
    }
   ],
   "source": [
    "confusion = confusion_matrix(testlabel, result)\n",
    "\n",
    "plt.figure(figsize=(10,10))\n",
    "plt.imshow(confusion, cmap='Greys', vmin=0, vmax=10)\n",
    "plt.colorbar()"
   ]
  },
  {
   "cell_type": "code",
   "execution_count": null,
   "metadata": {},
   "outputs": [],
   "source": []
  },
  {
   "cell_type": "code",
   "execution_count": null,
   "metadata": {},
   "outputs": [],
   "source": []
  }
 ],
 "metadata": {
  "kernelspec": {
   "display_name": "Python 3",
   "language": "python",
   "name": "python3"
  },
  "language_info": {
   "codemirror_mode": {
    "name": "ipython",
    "version": 3
   },
   "file_extension": ".py",
   "mimetype": "text/x-python",
   "name": "python",
   "nbconvert_exporter": "python",
   "pygments_lexer": "ipython3",
   "version": "3.6.8"
  }
 },
 "nbformat": 4,
 "nbformat_minor": 2
}
